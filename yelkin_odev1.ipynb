{
 "cells": [
  {
   "cell_type": "code",
   "execution_count": 6,
   "metadata": {},
   "outputs": [
    {
     "name": "stdout",
     "output_type": "stream",
     "text": [
      "[ 0.33626969 -0.47387154 -1.31186345 -0.888858    0.84052352 -0.82155724\n",
      " -1.27700788  0.5251366  -0.1579929  -0.47433337]\n",
      "[0.37701241 0.35657323 0.16873406 0.26875024 0.28022052 0.28467227\n",
      " 0.17652141 0.34755833 0.39399407 0.35649516]\n",
      "[0.63166625 0.31779576 0.09478311 0.1870397  0.79969254 0.20566447\n",
      " 0.10079973 0.70025588 0.4372312  0.3176311 ]\n"
     ]
    }
   ],
   "source": [
    "import numpy as np\n",
    "from scipy.stats import norm\n",
    "import matplotlib.pyplot as plt\n",
    "\n",
    "class oly:\n",
    "    r = []\n",
    "    c = []\n",
    "    def __init__(self):\n",
    "        self.r = np.random.randn(10)\n",
    "    def pdffonk(self):\n",
    "        return norm.pdf(self.r)\n",
    "    def cdffonk(self):\n",
    "        return norm.cdf(self.r)\n",
    "\n",
    "    \n",
    "a = ozy()\n",
    "print(a.r)\n",
    "print(a.pdffonk())\n",
    "print(a.cdffonk())\n",
    "\n"
   ]
  },
  {
   "cell_type": "code",
   "execution_count": null,
   "metadata": {},
   "outputs": [],
   "source": []
  }
 ],
 "metadata": {
  "kernelspec": {
   "display_name": "Python 3",
   "language": "python",
   "name": "python3"
  },
  "language_info": {
   "codemirror_mode": {
    "name": "ipython",
    "version": 3
   },
   "file_extension": ".py",
   "mimetype": "text/x-python",
   "name": "python",
   "nbconvert_exporter": "python",
   "pygments_lexer": "ipython3",
   "version": "3.7.1"
  }
 },
 "nbformat": 4,
 "nbformat_minor": 2
}
